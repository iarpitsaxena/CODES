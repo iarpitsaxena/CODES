{
  "cells": [
    {
      "cell_type": "code",
      "execution_count": null,
      "metadata": {
        "id": "mQMXiX9rO_xv"
      },
      "outputs": [],
      "source": [
        "from keras.optimizers import RMSprop\n",
        "optimizer = RMSprop(learning_rate=0.01, rho=0.9, epsilon=1e-07)\n",
        "\n",
        "\n",
        "from keras.models import Sequential, Model\n",
        "from keras.layers import Dense, Flatten\n",
        "from keras.datasets import mnist\n",
        "import numpy as np"
      ]
    },
    {
      "cell_type": "code",
      "execution_count": null,
      "metadata": {
        "id": "O7Zo_CNgRkHd"
      },
      "outputs": [],
      "source": [
        "model=Sequential()"
      ]
    },
    {
      "cell_type": "code",
      "execution_count": null,
      "metadata": {
        "id": "v0A8zi5yRtQl"
      },
      "outputs": [],
      "source": [
        "model.add(Flatten())\n",
        "model.add(Dense(128,activation='relu'))\n",
        "model.add(Dense(128,activation='relu'))\n",
        "model.add(Dense(10,activation='softmax'))"
      ]
    },
    {
      "cell_type": "code",
      "execution_count": null,
      "metadata": {
        "colab": {
          "base_uri": "https://localhost:8080/"
        },
        "id": "1E53sJkmR74w",
        "outputId": "a2bfd17b-56a1-4ac0-fcfd-886dbb0c04e7"
      },
      "outputs": [
        {
          "name": "stdout",
          "output_type": "stream",
          "text": [
            "Downloading data from https://storage.googleapis.com/tensorflow/tf-keras-datasets/mnist.npz\n",
            "11490434/11490434 [==============================] - 0s 0us/step\n"
          ]
        }
      ],
      "source": [
        "(X_train,Y_train),(X_test,Y_test)=mnist.load_data()"
      ]
    },
    {
      "cell_type": "code",
      "execution_count": null,
      "metadata": {
        "colab": {
          "base_uri": "https://localhost:8080/"
        },
        "id": "u6ZKQy_iSCOj",
        "outputId": "4db57321-106b-489a-e7fb-0883848fa5ba"
      },
      "outputs": [
        {
          "name": "stdout",
          "output_type": "stream",
          "text": [
            "(28, 28)\n"
          ]
        }
      ],
      "source": [
        "print(X_train[0].shape)"
      ]
    },
    {
      "cell_type": "code",
      "execution_count": null,
      "metadata": {
        "colab": {
          "base_uri": "https://localhost:8080/"
        },
        "id": "hSMa4tKESE41",
        "outputId": "e469d760-b4b2-4ed4-e373-1cef281f33ce"
      },
      "outputs": [
        {
          "name": "stdout",
          "output_type": "stream",
          "text": [
            "(60000,)\n"
          ]
        }
      ],
      "source": [
        "print(Y_train.shape)"
      ]
    },
    {
      "cell_type": "code",
      "execution_count": null,
      "metadata": {
        "colab": {
          "base_uri": "https://localhost:8080/"
        },
        "id": "8Pd-U9loSHIg",
        "outputId": "99ba174e-6698-4fc6-c0b4-39bb377c84ca"
      },
      "outputs": [
        {
          "name": "stdout",
          "output_type": "stream",
          "text": [
            "Epoch 1/4\n",
            "1875/1875 [==============================] - 12s 6ms/step - loss: 1.6927 - accuracy: 0.8826\n",
            "Epoch 2/4\n",
            "1875/1875 [==============================] - 10s 5ms/step - loss: 0.3240 - accuracy: 0.9341\n",
            "Epoch 3/4\n",
            "1875/1875 [==============================] - 10s 5ms/step - loss: 0.2070 - accuracy: 0.9480\n",
            "Epoch 4/4\n",
            "1875/1875 [==============================] - 10s 5ms/step - loss: 0.1657 - accuracy: 0.9561\n"
          ]
        },
        {
          "data": {
            "text/plain": [
              "<keras.src.callbacks.History at 0x7a24bccc9510>"
            ]
          },
          "execution_count": 8,
          "metadata": {},
          "output_type": "execute_result"
        }
      ],
      "source": [
        "model.compile(optimizer='Nadam', loss='sparse_categorical_crossentropy', metrics=['accuracy'])\n",
        "model.fit(X_train,Y_train,epochs=4)"
      ]
    },
    {
      "cell_type": "code",
      "execution_count": null,
      "metadata": {
        "id": "l1R1hp2mW7g4"
      },
      "outputs": [],
      "source": [
        "predictions=model.predict([X_test])"
      ]
    },
    {
      "cell_type": "code",
      "execution_count": null,
      "metadata": {
        "id": "YaetHAIiW-la"
      },
      "outputs": [],
      "source": [
        "print(np.argmax(predictions[0]))"
      ]
    },
    {
      "cell_type": "code",
      "execution_count": null,
      "metadata": {
        "id": "qLQySj4aXAzF"
      },
      "outputs": [],
      "source": [
        "print(Y_test[0])"
      ]
    },
    {
      "cell_type": "code",
      "execution_count": null,
      "metadata": {
        "id": "WryuI6-4XDJD"
      },
      "outputs": [],
      "source": [
        "for i in range(0,10):\n",
        "  print(np.argmax(predictions[i]))"
      ]
    },
    {
      "cell_type": "code",
      "execution_count": null,
      "metadata": {
        "id": "xxrezz1gXFm4"
      },
      "outputs": [],
      "source": [
        "for i in range(0,10):\n",
        "  print(Y_test[i])"
      ]
    },
    {
      "cell_type": "code",
      "execution_count": null,
      "metadata": {
        "id": "79YnrrKoXIuZ"
      },
      "outputs": [],
      "source": [
        "from sklearn.metrics import confusion_matrix, accuracy_score"
      ]
    },
    {
      "cell_type": "code",
      "execution_count": null,
      "metadata": {
        "id": "r-fvXLXGXLyv"
      },
      "outputs": [],
      "source": [
        "loss, accuracy=model.evaluate(X_test,Y_test)"
      ]
    },
    {
      "cell_type": "code",
      "execution_count": null,
      "metadata": {
        "colab": {
          "background_save": true
        },
        "id": "NVCb7lUDXOBn",
        "outputId": "c99368c2-f4b6-425b-b8fa-2569f33c2f00"
      },
      "outputs": [
        {
          "name": "stdout",
          "output_type": "stream",
          "text": [
            "Test Accuracy:  95.25\n"
          ]
        }
      ],
      "source": [
        "print(f\"Test Accuracy: {100*accuracy: .2f}\")"
      ]
    },
    {
      "cell_type": "code",
      "execution_count": null,
      "metadata": {
        "id": "6uorrKCAXPvy"
      },
      "outputs": [],
      "source": [
        "model.save('my_model.h5')"
      ]
    }
  ],
  "metadata": {
    "colab": {
      "provenance": []
    },
    "kernelspec": {
      "display_name": "Python 3",
      "name": "python3"
    },
    "language_info": {
      "name": "python"
    }
  },
  "nbformat": 4,
  "nbformat_minor": 0
}