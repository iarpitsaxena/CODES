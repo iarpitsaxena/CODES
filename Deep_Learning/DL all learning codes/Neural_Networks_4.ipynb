{
  "cells": [
    {
      "cell_type": "code",
      "execution_count": 1,
      "metadata": {
        "id": "umvdGQ2P_FaZ"
      },
      "outputs": [],
      "source": [
        "import keras\n",
        "import pandas as pd\n",
        "import numpy as np\n",
        "import pandas as pd"
      ]
    },
    {
      "cell_type": "code",
      "execution_count": 2,
      "metadata": {
        "colab": {
          "base_uri": "https://localhost:8080/"
        },
        "id": "4xy6j42F_f8-",
        "outputId": "667cb878-8111-4e17-96d0-914ceb6ca583"
      },
      "outputs": [
        {
          "name": "stdout",
          "output_type": "stream",
          "text": [
            "Describing the data:                Age  Total_Purchase  Account_Manager       Years   Num_Sites  \\\n",
            "count  900.000000      900.000000       900.000000  900.000000  900.000000   \n",
            "mean    41.816667    10062.824033         0.481111    5.273156    8.587778   \n",
            "std      6.127560     2408.644532         0.499921    1.274449    1.764836   \n",
            "min     22.000000      100.000000         0.000000    1.000000    3.000000   \n",
            "25%     38.000000     8497.122500         0.000000    4.450000    7.000000   \n",
            "50%     42.000000    10045.870000         0.000000    5.215000    8.000000   \n",
            "75%     46.000000    11760.105000         1.000000    6.110000   10.000000   \n",
            "max     65.000000    18026.010000         1.000000    9.150000   14.000000   \n",
            "\n",
            "            Churn  \n",
            "count  900.000000  \n",
            "mean     0.166667  \n",
            "std      0.372885  \n",
            "min      0.000000  \n",
            "25%      0.000000  \n",
            "50%      0.000000  \n",
            "75%      0.000000  \n",
            "max      1.000000  \n",
            "<class 'pandas.core.frame.DataFrame'>\n",
            "RangeIndex: 900 entries, 0 to 899\n",
            "Data columns (total 10 columns):\n",
            " #   Column           Non-Null Count  Dtype  \n",
            "---  ------           --------------  -----  \n",
            " 0   Names            900 non-null    object \n",
            " 1   Age              900 non-null    float64\n",
            " 2   Total_Purchase   900 non-null    float64\n",
            " 3   Account_Manager  900 non-null    int64  \n",
            " 4   Years            900 non-null    float64\n",
            " 5   Num_Sites        900 non-null    float64\n",
            " 6   Onboard_date     900 non-null    object \n",
            " 7   Location         900 non-null    object \n",
            " 8   Company          900 non-null    object \n",
            " 9   Churn            900 non-null    int64  \n",
            "dtypes: float64(4), int64(2), object(4)\n",
            "memory usage: 70.4+ KB\n",
            "Info of the data: None\n"
          ]
        }
      ],
      "source": [
        "data=pd.read_csv(\"/content/customer_churn.csv\")\n",
        "print(\"Describing the data: \",data.describe())\n",
        "print(\"Info of the data:\",data.info())"
      ]
    },
    {
      "cell_type": "code",
      "execution_count": 4,
      "metadata": {
        "colab": {
          "base_uri": "https://localhost:8080/"
        },
        "id": "NpaKLpJg_jTY",
        "outputId": "df299975-8253-4978-8248-3091b5ceae9d"
      },
      "outputs": [
        {
          "name": "stdout",
          "output_type": "stream",
          "text": [
            "10 first samples of the dataset:\n",
            "               Names   Age  Total_Purchase  Account_Manager  Years  Num_Sites  \\\n",
            "0  Cameron Williams  42.0        11066.80                0   7.22        8.0   \n",
            "1     Kevin Mueller  41.0        11916.22                0   6.50       11.0   \n",
            "2       Eric Lozano  38.0        12884.75                0   6.67       12.0   \n",
            "3     Phillip White  42.0         8010.76                0   6.71       10.0   \n",
            "4    Cynthia Norton  37.0         9191.58                0   5.56        9.0   \n",
            "5  Jessica Williams  48.0        10356.02                0   5.12        8.0   \n",
            "6       Eric Butler  44.0        11331.58                1   5.23       11.0   \n",
            "7     Zachary Walsh  32.0         9885.12                1   6.92        9.0   \n",
            "8       Ashlee Carr  43.0        14062.60                1   5.46       11.0   \n",
            "9    Jennifer Lynch  40.0         8066.94                1   7.11       11.0   \n",
            "\n",
            "          Onboard_date                                           Location  \\\n",
            "0  2013-08-30 07:00:40      10265 Elizabeth Mission Barkerburgh, AK 89518   \n",
            "1  2013-08-13 00:38:46  6157 Frank Gardens Suite 019 Carloshaven, RI 1...   \n",
            "2  2016-06-29 06:20:07             1331 Keith Court Alyssahaven, DE 90114   \n",
            "3  2014-04-22 12:43:12       13120 Daniel Mount Angelabury, WY 30645-4695   \n",
            "4  2016-01-19 15:31:15                765 Tricia Row Karenshire, MH 71730   \n",
            "5  2009-03-03 23:13:37  6187 Olson Mountains East Vincentborough, PR 7...   \n",
            "6  2016-12-05 03:35:43      4846 Savannah Road West Justin, IA 87713-3460   \n",
            "7  2006-03-09 14:50:20  25271 Roy Expressway Suite 147 Brownport, FM 5...   \n",
            "8  2011-09-29 05:47:23  3725 Caroline Stravenue South Christineview, M...   \n",
            "9  2006-03-28 15:42:45  363 Sandra Lodge Suite 144 South Ann, WI 51655...   \n",
            "\n",
            "                       Company  Churn  \n",
            "0                   Harvey LLC      1  \n",
            "1                   Wilson PLC      1  \n",
            "2  Miller, Johnson and Wallace      1  \n",
            "3                    Smith Inc      1  \n",
            "4                   Love-Jones      1  \n",
            "5                 Kelly-Warren      1  \n",
            "6            Reynolds-Sheppard      1  \n",
            "7                   Singh-Cole      1  \n",
            "8                    Lopez PLC      1  \n",
            "9                Reed-Martinez      1  \n",
            "10 last samples of the dataset:\n",
            "                Names   Age  Total_Purchase  Account_Manager  Years  Num_Sites  \\\n",
            "890       Jason West  45.0        13122.89                0   5.84        6.0   \n",
            "891       Adam Moore  41.0        12659.88                0   4.55        4.0   \n",
            "892    Brandon Ortiz  37.0         8286.87                1   6.25        8.0   \n",
            "893   Cindy Marshall  37.0         9229.96                0   3.65        8.0   \n",
            "894   Matthew Barnes  45.0         4863.73                1   5.17        8.0   \n",
            "895      Paul Miller  42.0        12800.82                1   3.62        8.0   \n",
            "896   Natalie Hodges  52.0         9893.92                0   6.91        7.0   \n",
            "897        Ana Smith  45.0        12056.18                0   5.46        4.0   \n",
            "898   Justin Leonard  51.0         6517.93                1   5.47       10.0   \n",
            "899  Joseph Williams  39.0         9315.60                1   5.02       10.0   \n",
            "\n",
            "            Onboard_date                                           Location  \\\n",
            "890  2016-04-03 12:55:26   6239 Timothy Overpass Carmenhaven, FM 05708-0772   \n",
            "891  2010-01-22 19:08:48  339 Jeffrey River Suite 638 Fergusonville, DC ...   \n",
            "892  2007-12-13 12:23:32  276 Thompson Field Apt. 992 South Victoriaton,...   \n",
            "893  2015-12-30 19:11:01    393 Stephens Field South Michelleside, MI 26930   \n",
            "894  2011-07-19 18:41:42         00154 Ashley Course Shannonville, UT 52907   \n",
            "895  2007-12-01 13:29:34  9316 Julian Fort Suite 328 North Leslie, ME 43961   \n",
            "896  2008-12-28 15:23:58  8419 William Square Apt. 695 Martinville, RI 3...   \n",
            "897  2014-06-20 05:10:09               Unit 8633 Box 8738 DPO AA 14126-5026   \n",
            "898  2012-05-30 00:15:43  49800 Torres Ways Suite 886 West Bradleybury, ...   \n",
            "899  2010-09-25 12:16:08       27252 Olivia Burgs Rivasmouth, MN 80121-6348   \n",
            "\n",
            "                     Company  Churn  \n",
            "890          Santiago-Waller      0  \n",
            "891  Little, White and Davis      0  \n",
            "892              Ewing Group      0  \n",
            "893             Gomez-Clarke      0  \n",
            "894            Chavez-Howard      0  \n",
            "895             Evans-Lucero      0  \n",
            "896           Perry and Sons      0  \n",
            "897          Schneider-Smith      0  \n",
            "898            Robles-Abbott      0  \n",
            "899              Davis Group      0  \n"
          ]
        }
      ],
      "source": [
        "print(\"10 first samples of the dataset:\\n\",data.head(10))\n",
        "print(\"10 last samples of the dataset:\\n\",data.tail(10))"
      ]
    },
    {
      "cell_type": "code",
      "execution_count": 7,
      "metadata": {
        "colab": {
          "base_uri": "https://localhost:8080/",
          "height": 423
        },
        "id": "ftmCt1E0_0zc",
        "outputId": "97bbaf95-26d5-4e1f-f399-da05b67f2190"
      },
      "outputs": [
        {
          "data": {
            "text/html": [
              "\n",
              "\n",
              "  <div id=\"df-7d8c8678-67d6-4aa3-993f-29afb7cb3ac8\">\n",
              "    <div class=\"colab-df-container\">\n",
              "      <div>\n",
              "<style scoped>\n",
              "    .dataframe tbody tr th:only-of-type {\n",
              "        vertical-align: middle;\n",
              "    }\n",
              "\n",
              "    .dataframe tbody tr th {\n",
              "        vertical-align: top;\n",
              "    }\n",
              "\n",
              "    .dataframe thead th {\n",
              "        text-align: right;\n",
              "    }\n",
              "</style>\n",
              "<table border=\"1\" class=\"dataframe\">\n",
              "  <thead>\n",
              "    <tr style=\"text-align: right;\">\n",
              "      <th></th>\n",
              "      <th>Total_Purchase</th>\n",
              "      <th>Years</th>\n",
              "      <th>Num_Sites</th>\n",
              "    </tr>\n",
              "  </thead>\n",
              "  <tbody>\n",
              "    <tr>\n",
              "      <th>0</th>\n",
              "      <td>11066.80</td>\n",
              "      <td>7.22</td>\n",
              "      <td>8.0</td>\n",
              "    </tr>\n",
              "    <tr>\n",
              "      <th>1</th>\n",
              "      <td>11916.22</td>\n",
              "      <td>6.50</td>\n",
              "      <td>11.0</td>\n",
              "    </tr>\n",
              "    <tr>\n",
              "      <th>2</th>\n",
              "      <td>12884.75</td>\n",
              "      <td>6.67</td>\n",
              "      <td>12.0</td>\n",
              "    </tr>\n",
              "    <tr>\n",
              "      <th>3</th>\n",
              "      <td>8010.76</td>\n",
              "      <td>6.71</td>\n",
              "      <td>10.0</td>\n",
              "    </tr>\n",
              "    <tr>\n",
              "      <th>4</th>\n",
              "      <td>9191.58</td>\n",
              "      <td>5.56</td>\n",
              "      <td>9.0</td>\n",
              "    </tr>\n",
              "    <tr>\n",
              "      <th>...</th>\n",
              "      <td>...</td>\n",
              "      <td>...</td>\n",
              "      <td>...</td>\n",
              "    </tr>\n",
              "    <tr>\n",
              "      <th>895</th>\n",
              "      <td>12800.82</td>\n",
              "      <td>3.62</td>\n",
              "      <td>8.0</td>\n",
              "    </tr>\n",
              "    <tr>\n",
              "      <th>896</th>\n",
              "      <td>9893.92</td>\n",
              "      <td>6.91</td>\n",
              "      <td>7.0</td>\n",
              "    </tr>\n",
              "    <tr>\n",
              "      <th>897</th>\n",
              "      <td>12056.18</td>\n",
              "      <td>5.46</td>\n",
              "      <td>4.0</td>\n",
              "    </tr>\n",
              "    <tr>\n",
              "      <th>898</th>\n",
              "      <td>6517.93</td>\n",
              "      <td>5.47</td>\n",
              "      <td>10.0</td>\n",
              "    </tr>\n",
              "    <tr>\n",
              "      <th>899</th>\n",
              "      <td>9315.60</td>\n",
              "      <td>5.02</td>\n",
              "      <td>10.0</td>\n",
              "    </tr>\n",
              "  </tbody>\n",
              "</table>\n",
              "<p>900 rows × 3 columns</p>\n",
              "</div>\n",
              "      <button class=\"colab-df-convert\" onclick=\"convertToInteractive('df-7d8c8678-67d6-4aa3-993f-29afb7cb3ac8')\"\n",
              "              title=\"Convert this dataframe to an interactive table.\"\n",
              "              style=\"display:none;\">\n",
              "\n",
              "  <svg xmlns=\"http://www.w3.org/2000/svg\" height=\"24px\"viewBox=\"0 0 24 24\"\n",
              "       width=\"24px\">\n",
              "    <path d=\"M0 0h24v24H0V0z\" fill=\"none\"/>\n",
              "    <path d=\"M18.56 5.44l.94 2.06.94-2.06 2.06-.94-2.06-.94-.94-2.06-.94 2.06-2.06.94zm-11 1L8.5 8.5l.94-2.06 2.06-.94-2.06-.94L8.5 2.5l-.94 2.06-2.06.94zm10 10l.94 2.06.94-2.06 2.06-.94-2.06-.94-.94-2.06-.94 2.06-2.06.94z\"/><path d=\"M17.41 7.96l-1.37-1.37c-.4-.4-.92-.59-1.43-.59-.52 0-1.04.2-1.43.59L10.3 9.45l-7.72 7.72c-.78.78-.78 2.05 0 2.83L4 21.41c.39.39.9.59 1.41.59.51 0 1.02-.2 1.41-.59l7.78-7.78 2.81-2.81c.8-.78.8-2.07 0-2.86zM5.41 20L4 18.59l7.72-7.72 1.47 1.35L5.41 20z\"/>\n",
              "  </svg>\n",
              "      </button>\n",
              "\n",
              "\n",
              "\n",
              "    <div id=\"df-f4dfa76e-5b40-42e9-8d38-7832ecfe8b60\">\n",
              "      <button class=\"colab-df-quickchart\" onclick=\"quickchart('df-f4dfa76e-5b40-42e9-8d38-7832ecfe8b60')\"\n",
              "              title=\"Suggest charts.\"\n",
              "              style=\"display:none;\">\n",
              "\n",
              "<svg xmlns=\"http://www.w3.org/2000/svg\" height=\"24px\"viewBox=\"0 0 24 24\"\n",
              "     width=\"24px\">\n",
              "    <g>\n",
              "        <path d=\"M19 3H5c-1.1 0-2 .9-2 2v14c0 1.1.9 2 2 2h14c1.1 0 2-.9 2-2V5c0-1.1-.9-2-2-2zM9 17H7v-7h2v7zm4 0h-2V7h2v10zm4 0h-2v-4h2v4z\"/>\n",
              "    </g>\n",
              "</svg>\n",
              "      </button>\n",
              "    </div>\n",
              "\n",
              "<style>\n",
              "  .colab-df-quickchart {\n",
              "    background-color: #E8F0FE;\n",
              "    border: none;\n",
              "    border-radius: 50%;\n",
              "    cursor: pointer;\n",
              "    display: none;\n",
              "    fill: #1967D2;\n",
              "    height: 32px;\n",
              "    padding: 0 0 0 0;\n",
              "    width: 32px;\n",
              "  }\n",
              "\n",
              "  .colab-df-quickchart:hover {\n",
              "    background-color: #E2EBFA;\n",
              "    box-shadow: 0px 1px 2px rgba(60, 64, 67, 0.3), 0px 1px 3px 1px rgba(60, 64, 67, 0.15);\n",
              "    fill: #174EA6;\n",
              "  }\n",
              "\n",
              "  [theme=dark] .colab-df-quickchart {\n",
              "    background-color: #3B4455;\n",
              "    fill: #D2E3FC;\n",
              "  }\n",
              "\n",
              "  [theme=dark] .colab-df-quickchart:hover {\n",
              "    background-color: #434B5C;\n",
              "    box-shadow: 0px 1px 3px 1px rgba(0, 0, 0, 0.15);\n",
              "    filter: drop-shadow(0px 1px 2px rgba(0, 0, 0, 0.3));\n",
              "    fill: #FFFFFF;\n",
              "  }\n",
              "</style>\n",
              "\n",
              "    <script>\n",
              "      async function quickchart(key) {\n",
              "        const containerElement = document.querySelector('#' + key);\n",
              "        const charts = await google.colab.kernel.invokeFunction(\n",
              "            'suggestCharts', [key], {});\n",
              "      }\n",
              "    </script>\n",
              "\n",
              "      <script>\n",
              "\n",
              "function displayQuickchartButton(domScope) {\n",
              "  let quickchartButtonEl =\n",
              "    domScope.querySelector('#df-f4dfa76e-5b40-42e9-8d38-7832ecfe8b60 button.colab-df-quickchart');\n",
              "  quickchartButtonEl.style.display =\n",
              "    google.colab.kernel.accessAllowed ? 'block' : 'none';\n",
              "}\n",
              "\n",
              "        displayQuickchartButton(document);\n",
              "      </script>\n",
              "      <style>\n",
              "    .colab-df-container {\n",
              "      display:flex;\n",
              "      flex-wrap:wrap;\n",
              "      gap: 12px;\n",
              "    }\n",
              "\n",
              "    .colab-df-convert {\n",
              "      background-color: #E8F0FE;\n",
              "      border: none;\n",
              "      border-radius: 50%;\n",
              "      cursor: pointer;\n",
              "      display: none;\n",
              "      fill: #1967D2;\n",
              "      height: 32px;\n",
              "      padding: 0 0 0 0;\n",
              "      width: 32px;\n",
              "    }\n",
              "\n",
              "    .colab-df-convert:hover {\n",
              "      background-color: #E2EBFA;\n",
              "      box-shadow: 0px 1px 2px rgba(60, 64, 67, 0.3), 0px 1px 3px 1px rgba(60, 64, 67, 0.15);\n",
              "      fill: #174EA6;\n",
              "    }\n",
              "\n",
              "    [theme=dark] .colab-df-convert {\n",
              "      background-color: #3B4455;\n",
              "      fill: #D2E3FC;\n",
              "    }\n",
              "\n",
              "    [theme=dark] .colab-df-convert:hover {\n",
              "      background-color: #434B5C;\n",
              "      box-shadow: 0px 1px 3px 1px rgba(0, 0, 0, 0.15);\n",
              "      filter: drop-shadow(0px 1px 2px rgba(0, 0, 0, 0.3));\n",
              "      fill: #FFFFFF;\n",
              "    }\n",
              "  </style>\n",
              "\n",
              "      <script>\n",
              "        const buttonEl =\n",
              "          document.querySelector('#df-7d8c8678-67d6-4aa3-993f-29afb7cb3ac8 button.colab-df-convert');\n",
              "        buttonEl.style.display =\n",
              "          google.colab.kernel.accessAllowed ? 'block' : 'none';\n",
              "\n",
              "        async function convertToInteractive(key) {\n",
              "          const element = document.querySelector('#df-7d8c8678-67d6-4aa3-993f-29afb7cb3ac8');\n",
              "          const dataTable =\n",
              "            await google.colab.kernel.invokeFunction('convertToInteractive',\n",
              "                                                     [key], {});\n",
              "          if (!dataTable) return;\n",
              "\n",
              "          const docLinkHtml = 'Like what you see? Visit the ' +\n",
              "            '<a target=\"_blank\" href=https://colab.research.google.com/notebooks/data_table.ipynb>data table notebook</a>'\n",
              "            + ' to learn more about interactive tables.';\n",
              "          element.innerHTML = '';\n",
              "          dataTable['output_type'] = 'display_data';\n",
              "          await google.colab.output.renderOutput(dataTable, element);\n",
              "          const docLink = document.createElement('div');\n",
              "          docLink.innerHTML = docLinkHtml;\n",
              "          element.appendChild(docLink);\n",
              "        }\n",
              "      </script>\n",
              "    </div>\n",
              "  </div>\n"
            ],
            "text/plain": [
              "     Total_Purchase  Years  Num_Sites\n",
              "0          11066.80   7.22        8.0\n",
              "1          11916.22   6.50       11.0\n",
              "2          12884.75   6.67       12.0\n",
              "3           8010.76   6.71       10.0\n",
              "4           9191.58   5.56        9.0\n",
              "..              ...    ...        ...\n",
              "895        12800.82   3.62        8.0\n",
              "896         9893.92   6.91        7.0\n",
              "897        12056.18   5.46        4.0\n",
              "898         6517.93   5.47       10.0\n",
              "899         9315.60   5.02       10.0\n",
              "\n",
              "[900 rows x 3 columns]"
            ]
          },
          "execution_count": 7,
          "metadata": {},
          "output_type": "execute_result"
        }
      ],
      "source": [
        "x = data.drop([\"Names\", \"Age\", \"Account_Manager\", \"Location\", \"Company\", \"Onboard_date\", \"Churn\"], axis = 1)\n",
        "x"
      ]
    },
    {
      "cell_type": "code",
      "execution_count": 9,
      "metadata": {
        "colab": {
          "base_uri": "https://localhost:8080/"
        },
        "id": "8mHOI1feBNvw",
        "outputId": "9523976e-ed9d-4826-c8ce-4fd1aa3c6603"
      },
      "outputs": [
        {
          "data": {
            "text/plain": [
              "0      1\n",
              "1      1\n",
              "2      1\n",
              "3      1\n",
              "4      1\n",
              "      ..\n",
              "895    0\n",
              "896    0\n",
              "897    0\n",
              "898    0\n",
              "899    0\n",
              "Name: Churn, Length: 900, dtype: int64"
            ]
          },
          "execution_count": 9,
          "metadata": {},
          "output_type": "execute_result"
        }
      ],
      "source": [
        "y = data[\"Churn\"]\n",
        "y"
      ]
    },
    {
      "cell_type": "code",
      "execution_count": 10,
      "metadata": {
        "id": "QXelb3cyBZCA"
      },
      "outputs": [],
      "source": [
        "from sklearn.model_selection import train_test_split"
      ]
    },
    {
      "cell_type": "code",
      "execution_count": 11,
      "metadata": {
        "id": "nb9MkO2TBfrB"
      },
      "outputs": [],
      "source": [
        "X_train, X_test, y_train, y_test = train_test_split(x, y, random_state = 52, test_size=0.25)"
      ]
    },
    {
      "cell_type": "code",
      "execution_count": 15,
      "metadata": {
        "id": "KR6bMOVmB4h7"
      },
      "outputs": [],
      "source": [
        "from keras.models import Sequential\n",
        "from keras.layers import Dense,Activation,Dropout\n",
        "from keras.utils import np_utils"
      ]
    },
    {
      "cell_type": "code",
      "execution_count": 16,
      "metadata": {
        "colab": {
          "base_uri": "https://localhost:8080/"
        },
        "id": "G2ZUWzdXCXL2",
        "outputId": "4bcc9c87-7f5c-4e39-ff76-ba7589ae4400"
      },
      "outputs": [
        {
          "name": "stdout",
          "output_type": "stream",
          "text": [
            "Shape of y_train (675, 2)\n",
            "Shape of y_test (225, 2)\n"
          ]
        }
      ],
      "source": [
        "y_train=np_utils.to_categorical(y_train,num_classes=2)\n",
        "y_test=np_utils.to_categorical(y_test,num_classes=2)\n",
        "print(\"Shape of y_train\",y_train.shape)\n",
        "print(\"Shape of y_test\",y_test.shape)"
      ]
    },
    {
      "cell_type": "code",
      "execution_count": 21,
      "metadata": {
        "id": "ZvmCDbdoCju-"
      },
      "outputs": [],
      "source": [
        "model=Sequential()\n",
        "model.add(Dense(1000,input_dim=3,activation='relu'))\n",
        "model.add(Dense(500,activation='relu'))\n",
        "model.add(Dense(300,activation='relu'))\n",
        "model.add(Dense(2,activation='softmax'))\n",
        "model.compile(loss='categorical_crossentropy',optimizer='adam',metrics=['accuracy'])"
      ]
    },
    {
      "cell_type": "code",
      "execution_count": 22,
      "metadata": {
        "colab": {
          "base_uri": "https://localhost:8080/"
        },
        "id": "Un9i5G0wCxF9",
        "outputId": "968adc6b-7ff2-4b65-a825-342b29d2016e"
      },
      "outputs": [
        {
          "name": "stdout",
          "output_type": "stream",
          "text": [
            "Model: \"sequential_1\"\n",
            "_________________________________________________________________\n",
            " Layer (type)                Output Shape              Param #   \n",
            "=================================================================\n",
            " dense_4 (Dense)             (None, 1000)              4000      \n",
            "                                                                 \n",
            " dense_5 (Dense)             (None, 500)               500500    \n",
            "                                                                 \n",
            " dense_6 (Dense)             (None, 300)               150300    \n",
            "                                                                 \n",
            " dense_7 (Dense)             (None, 2)                 602       \n",
            "                                                                 \n",
            "=================================================================\n",
            "Total params: 655,402\n",
            "Trainable params: 655,402\n",
            "Non-trainable params: 0\n",
            "_________________________________________________________________\n"
          ]
        }
      ],
      "source": [
        "model.summary()"
      ]
    },
    {
      "cell_type": "code",
      "execution_count": null,
      "metadata": {},
      "outputs": [],
      "source": []
    },
    {
      "cell_type": "code",
      "execution_count": 23,
      "metadata": {
        "colab": {
          "base_uri": "https://localhost:8080/"
        },
        "id": "9RjZcDagC0sO",
        "outputId": "1bb659fd-2a19-4803-8372-68ffacd9f947"
      },
      "outputs": [
        {
          "name": "stdout",
          "output_type": "stream",
          "text": [
            "Epoch 1/10\n",
            "34/34 [==============================] - 2s 26ms/step - loss: 227.4985 - accuracy: 0.7007 - val_loss: 114.9271 - val_accuracy: 0.1467\n",
            "Epoch 2/10\n",
            "34/34 [==============================] - 1s 18ms/step - loss: 43.4454 - accuracy: 0.7052 - val_loss: 7.8327 - val_accuracy: 0.8533\n",
            "Epoch 3/10\n",
            "34/34 [==============================] - 1s 17ms/step - loss: 16.1385 - accuracy: 0.6933 - val_loss: 31.9461 - val_accuracy: 0.8533\n",
            "Epoch 4/10\n",
            "34/34 [==============================] - 1s 16ms/step - loss: 19.2439 - accuracy: 0.7126 - val_loss: 61.0988 - val_accuracy: 0.1467\n",
            "Epoch 5/10\n",
            "34/34 [==============================] - 1s 16ms/step - loss: 20.8590 - accuracy: 0.7096 - val_loss: 1.9231 - val_accuracy: 0.1467\n",
            "Epoch 6/10\n",
            "34/34 [==============================] - 1s 16ms/step - loss: 14.5601 - accuracy: 0.7052 - val_loss: 13.3593 - val_accuracy: 0.8533\n",
            "Epoch 7/10\n",
            "34/34 [==============================] - 1s 17ms/step - loss: 16.1642 - accuracy: 0.7067 - val_loss: 0.5269 - val_accuracy: 0.8533\n",
            "Epoch 8/10\n",
            "34/34 [==============================] - 1s 16ms/step - loss: 6.0647 - accuracy: 0.7274 - val_loss: 0.8122 - val_accuracy: 0.8533\n",
            "Epoch 9/10\n",
            "34/34 [==============================] - 1s 16ms/step - loss: 1.2704 - accuracy: 0.7200 - val_loss: 1.0835 - val_accuracy: 0.8533\n",
            "Epoch 10/10\n",
            "34/34 [==============================] - 1s 27ms/step - loss: 1.6942 - accuracy: 0.7556 - val_loss: 0.4983 - val_accuracy: 0.8533\n"
          ]
        },
        {
          "data": {
            "text/plain": [
              "<keras.callbacks.History at 0x7da95a596e90>"
            ]
          },
          "execution_count": 23,
          "metadata": {},
          "output_type": "execute_result"
        }
      ],
      "source": [
        "model.fit(X_train,y_train,validation_data=(X_test,y_test),batch_size=20,epochs=10,verbose=1)"
      ]
    },
    {
      "cell_type": "code",
      "execution_count": 24,
      "metadata": {
        "colab": {
          "base_uri": "https://localhost:8080/"
        },
        "id": "Wcp68YgvDJBs",
        "outputId": "34f21825-738c-4110-a53c-f39dc929b775"
      },
      "outputs": [
        {
          "name": "stdout",
          "output_type": "stream",
          "text": [
            "8/8 [==============================] - 0s 4ms/step\n",
            "Accuracy of the dataset 85.33333333333334\n"
          ]
        }
      ],
      "source": [
        "prediction=model.predict(X_test)\n",
        "length=len(prediction)\n",
        "y_label=np.argmax(y_test,axis=1)\n",
        "predict_label=np.argmax(prediction,axis=1)\n",
        "\n",
        "accuracy=np.sum(y_label==predict_label)/length * 100\n",
        "print(\"Accuracy of the dataset\",accuracy )"
      ]
    },
    {
      "cell_type": "code",
      "execution_count": 25,
      "metadata": {
        "colab": {
          "base_uri": "https://localhost:8080/"
        },
        "id": "vN8AVgg7DVf0",
        "outputId": "279d5bb0-abdf-42c2-da9b-aa047732aed8"
      },
      "outputs": [
        {
          "name": "stdout",
          "output_type": "stream",
          "text": [
            "[[192   0]\n",
            " [ 33   0]]\n"
          ]
        }
      ],
      "source": [
        "from sklearn.metrics import confusion_matrix\n",
        "print(confusion_matrix(y_label, predict_label))"
      ]
    },
    {
      "cell_type": "code",
      "execution_count": 26,
      "metadata": {
        "colab": {
          "base_uri": "https://localhost:8080/"
        },
        "id": "Sz3rXvv8DYgj",
        "outputId": "47fd0529-8e9c-4c9f-a201-1cd1c53617d6"
      },
      "outputs": [
        {
          "name": "stdout",
          "output_type": "stream",
          "text": [
            "[0 0 0 0 0 0 0 0 0 0 0 0 0 0 0 0 0 0 0 0 0 0 0 0 0 0 0 0 0 0 0 0 0 0 0 0 0\n",
            " 0 0 0 0 0 0 0 0 0 0 0 0 0 0 0 0 0 0 0 0 0 0 0 0 0 0 0 0 0 0 0 0 0 0 0 0 0\n",
            " 0 0 0 0 0 0 0 0 0 0 0 0 0 0 0 0 0 0 0 0 0 0 0 0 0 0 0 0 0 0 0 0 0 0 0 0 0\n",
            " 0 0 0 0 0 0 0 0 0 0 0 0 0 0 0 0 0 0 0 0 0 0 0 0 0 0 0 0 0 0 0 0 0 0 0 0 0\n",
            " 0 0 0 0 0 0 0 0 0 0 0 0 0 0 0 0 0 0 0 0 0 0 0 0 0 0 0 0 0 0 0 0 0 0 0 0 0\n",
            " 0 0 0 0 0 0 0 0 0 0 0 0 0 0 0 0 0 0 0 0 0 0 0 0 0 0 0 0 0 0 0 0 0 0 0 0 0\n",
            " 0 0 0] [0 0 0 0 0 0 0 0 0 1 0 0 0 0 0 0 0 0 0 0 0 0 0 0 0 0 0 0 0 0 0 0 0 0 0 0 0\n",
            " 0 0 0 0 0 1 1 0 0 0 0 0 0 0 0 1 0 1 0 1 0 0 1 0 0 0 0 0 0 0 1 0 0 0 0 0 0\n",
            " 0 0 0 0 1 1 0 0 0 0 0 1 1 0 0 0 0 0 0 0 0 0 0 0 0 0 0 0 0 0 0 0 0 1 0 0 1\n",
            " 1 0 0 1 0 0 0 0 0 0 0 0 0 0 0 0 1 0 0 0 0 0 0 0 0 0 1 0 0 0 0 1 0 0 1 0 0\n",
            " 0 1 0 0 0 0 0 0 0 0 0 0 0 0 1 0 0 0 0 0 0 0 0 0 0 0 0 1 0 0 0 0 1 0 1 0 0\n",
            " 0 0 0 0 1 0 0 1 0 0 0 0 0 0 1 0 0 1 1 0 0 0 0 0 0 0 1 0 0 0 0 0 0 0 0 1 0\n",
            " 0 0 1]\n"
          ]
        }
      ],
      "source": [
        "print(predict_label, y_label)"
      ]
    }
  ],
  "metadata": {
    "colab": {
      "provenance": []
    },
    "kernelspec": {
      "display_name": "Python 3",
      "name": "python3"
    },
    "language_info": {
      "name": "python"
    }
  },
  "nbformat": 4,
  "nbformat_minor": 0
}
