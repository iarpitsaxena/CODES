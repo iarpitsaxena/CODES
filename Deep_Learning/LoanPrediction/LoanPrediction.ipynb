{
  "cells": [
    {
      "cell_type": "code",
      "execution_count": 9,
      "metadata": {
        "id": "tlHirVG_a5ij"
      },
      "outputs": [],
      "source": [
        "from keras.models import Sequential\n",
        "from keras.layers import Dense\n",
        "import pandas as pd"
      ]
    },
    {
      "cell_type": "code",
      "execution_count": null,
      "metadata": {
        "colab": {
          "base_uri": "https://localhost:8080/",
          "height": 243
        },
        "id": "VuZdqs5ebBC4",
        "outputId": "ae5497db-de35-4d3b-9cbf-78e7ec00a13f"
      },
      "outputs": [],
      "source": [
        "data=pd.read_csv('loan_dataset.csv')\n",
        "data.head()"
      ]
    },
    {
      "cell_type": "code",
      "execution_count": null,
      "metadata": {
        "colab": {
          "base_uri": "https://localhost:8080/"
        },
        "id": "jpy7UV7lbBFT",
        "outputId": "8009fda3-c900-4f20-e457-e860f5c72325"
      },
      "outputs": [],
      "source": [
        "data.info()"
      ]
    },
    {
      "cell_type": "code",
      "execution_count": null,
      "metadata": {
        "colab": {
          "base_uri": "https://localhost:8080/",
          "height": 492
        },
        "id": "ctoubDFZbBH0",
        "outputId": "69768f8f-7913-4135-fa2a-743555b4a10a"
      },
      "outputs": [],
      "source": [
        "data.isna().sum()"
      ]
    },
    {
      "cell_type": "code",
      "execution_count": 13,
      "metadata": {
        "id": "jUMu5wKSbBKo"
      },
      "outputs": [],
      "source": [
        "data.dropna(inplace=True)"
      ]
    },
    {
      "cell_type": "code",
      "execution_count": null,
      "metadata": {
        "colab": {
          "base_uri": "https://localhost:8080/",
          "height": 492
        },
        "id": "TNAXYuEsbBM3",
        "outputId": "126aae19-4470-496a-fb66-fcbf047a96ba"
      },
      "outputs": [],
      "source": [
        "data.isna().sum()"
      ]
    },
    {
      "cell_type": "code",
      "execution_count": 15,
      "metadata": {
        "id": "GHKuwgNAbBPe"
      },
      "outputs": [],
      "source": [
        "data=data.drop('Loan_ID', axis=1)"
      ]
    },
    {
      "cell_type": "code",
      "execution_count": 16,
      "metadata": {
        "id": "6SQAJJnJb-oc"
      },
      "outputs": [],
      "source": [
        "from sklearn.preprocessing import OneHotEncoder\n",
        "le=OneHotEncoder()"
      ]
    },
    {
      "cell_type": "code",
      "execution_count": 17,
      "metadata": {
        "id": "vNSgwDFGb-rp"
      },
      "outputs": [],
      "source": [
        "data['Gender']=le.fit_transform(data['Gender'].values.reshape(-1,1)).toarray()\n",
        "data['Married']=le.fit_transform(data['Married'].values.reshape(-1,1)).toarray()\n",
        "data['Education']=le.fit_transform(data['Education'].values.reshape(-1,1)).toarray()\n",
        "data['Self_Employed']=le.fit_transform(data['Self_Employed'].values.reshape(-1,1)).toarray()\n",
        "data['Property_Area']=le.fit_transform(data['Property_Area'].values.reshape(-1,1)).toarray()\n",
        "data['Loan_Status']=le.fit_transform(data['Loan_Status'].values.reshape(-1,1)).toarray()"
      ]
    },
    {
      "cell_type": "code",
      "execution_count": 18,
      "metadata": {
        "id": "dGKHpAvdk3IH"
      },
      "outputs": [],
      "source": [
        "from sklearn.preprocessing import StandardScaler\n",
        "sc=StandardScaler()"
      ]
    },
    {
      "cell_type": "code",
      "execution_count": 19,
      "metadata": {
        "id": "LkFHLjzilCW-"
      },
      "outputs": [],
      "source": [
        "data['ApplicantIncome']=sc.fit_transform(data['ApplicantIncome'].values.reshape(-1,1))\n",
        "data['CoapplicantIncome']=sc.fit_transform(data['CoapplicantIncome'].values.reshape(-1,1))\n",
        "data['LoanAmount']=sc.fit_transform(data['LoanAmount'].values.reshape(-1,1))\n",
        "data['Loan_Amount_Term']=sc.fit_transform(data['Loan_Amount_Term'].values.reshape(-1,1))"
      ]
    },
    {
      "cell_type": "code",
      "execution_count": 20,
      "metadata": {
        "id": "O4CHSyfYjdu9"
      },
      "outputs": [],
      "source": [
        "data['Dependents']=data['Dependents'].replace('3+', 3)"
      ]
    },
    {
      "cell_type": "code",
      "execution_count": null,
      "metadata": {
        "colab": {
          "base_uri": "https://localhost:8080/",
          "height": 458
        },
        "id": "_4MkvmdlkIbY",
        "outputId": "9ffe2bf1-f158-477b-b342-545d3a0719aa"
      },
      "outputs": [],
      "source": [
        "data['Dependents'].astype(str).astype(int)"
      ]
    },
    {
      "cell_type": "code",
      "execution_count": null,
      "metadata": {
        "colab": {
          "base_uri": "https://localhost:8080/"
        },
        "id": "QU4Oj4E9b-u7",
        "outputId": "f65b8dcc-2a58-4836-894e-fb185b7ff213"
      },
      "outputs": [],
      "source": [
        "data.info()"
      ]
    },
    {
      "cell_type": "code",
      "execution_count": 26,
      "metadata": {
        "id": "5v43-csgbBRt"
      },
      "outputs": [],
      "source": [
        "X=data.drop('Loan_Status', axis=1)\n",
        "y=data['Loan_Status']"
      ]
    },
    {
      "cell_type": "code",
      "execution_count": 27,
      "metadata": {
        "id": "awjHaSUHbBTy"
      },
      "outputs": [],
      "source": [
        "from sklearn.model_selection import train_test_split\n",
        "X_train, X_test, y_train, y_test = train_test_split(X, y, test_size=0.2, random_state=42)"
      ]
    },
    {
      "cell_type": "code",
      "execution_count": 28,
      "metadata": {
        "id": "DwYxCKqkbBXW"
      },
      "outputs": [],
      "source": [
        "model=Sequential()\n",
        "model.add(Dense(128, activation='relu'))\n",
        "model.add(Dense(128, activation='relu'))\n",
        "model.add(Dense(1, activation='sigmoid'))"
      ]
    },
    {
      "cell_type": "code",
      "execution_count": null,
      "metadata": {
        "colab": {
          "base_uri": "https://localhost:8080/"
        },
        "id": "4tBiVnGXhv_c",
        "outputId": "a50c4ac7-fc54-4ef3-9787-89a4825dfb50"
      },
      "outputs": [],
      "source": [
        "model.compile(optimizer='adam', loss='binary_crossentropy', metrics=['accuracy'])\n",
        "model.fit(X_train, y_train, epochs=30)"
      ]
    },
    {
      "cell_type": "code",
      "execution_count": null,
      "metadata": {
        "colab": {
          "base_uri": "https://localhost:8080/"
        },
        "id": "QEw16DWehwD6",
        "outputId": "402e3c49-94af-4e92-d6e5-50d8bd827fba"
      },
      "outputs": [],
      "source": [
        "pred=model.predict(X_test)"
      ]
    },
    {
      "cell_type": "code",
      "execution_count": 31,
      "metadata": {
        "id": "MiEVvPrHiY5X"
      },
      "outputs": [],
      "source": [
        "for i in range(len(pred)):\n",
        "  if pred[i]>0.5:\n",
        "    pred[i]=1\n",
        "  else:\n",
        "    pred[i]=0"
      ]
    },
    {
      "cell_type": "code",
      "execution_count": null,
      "metadata": {
        "colab": {
          "base_uri": "https://localhost:8080/"
        },
        "id": "wUbrEGFnhwHV",
        "outputId": "d883cea4-c93c-4285-c4cc-a795bd34e30b"
      },
      "outputs": [],
      "source": [
        "from sklearn.metrics import accuracy_score\n",
        "accuracy_score(y_test, pred)"
      ]
    },
    {
      "cell_type": "code",
      "execution_count": 35,
      "metadata": {},
      "outputs": [],
      "source": [
        "import pickle\n",
        "\n",
        "model_pkl_file = \"model.pkl\"  \n",
        "\n",
        "with open(model_pkl_file, 'wb') as file:  \n",
        "    pickle.dump(model, file)"
      ]
    }
  ],
  "metadata": {
    "colab": {
      "provenance": []
    },
    "kernelspec": {
      "display_name": "Python 3",
      "name": "python3"
    },
    "language_info": {
      "codemirror_mode": {
        "name": "ipython",
        "version": 3
      },
      "file_extension": ".py",
      "mimetype": "text/x-python",
      "name": "python",
      "nbconvert_exporter": "python",
      "pygments_lexer": "ipython3",
      "version": "3.11.9"
    }
  },
  "nbformat": 4,
  "nbformat_minor": 0
}
